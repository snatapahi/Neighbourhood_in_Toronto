{
 "cells": [
  {
   "cell_type": "code",
   "execution_count": 5,
   "id": "7fd672ed",
   "metadata": {},
   "outputs": [
    {
     "name": "stdout",
     "output_type": "stream",
     "text": [
      "Requirement already satisfied: bs4 in c:\\users\\snata\\anaconda3\\lib\\site-packages (0.0.1)\n",
      "Requirement already satisfied: beautifulsoup4 in c:\\users\\snata\\anaconda3\\lib\\site-packages (from bs4) (4.9.3)\n",
      "Requirement already satisfied: soupsieve>1.2 in c:\\users\\snata\\anaconda3\\lib\\site-packages (from beautifulsoup4->bs4) (2.2.1)\n"
     ]
    }
   ],
   "source": [
    "!pip install bs4\n",
    "from bs4 import BeautifulSoup\n",
    "import requests\n",
    "import pandas as pd"
   ]
  },
  {
   "cell_type": "markdown",
   "id": "a253c957",
   "metadata": {},
   "source": [
    "Taken a random url from wikipedia that has the necessary data"
   ]
  },
  {
   "cell_type": "code",
   "execution_count": 6,
   "id": "6859e5fc",
   "metadata": {},
   "outputs": [],
   "source": [
    "url=\"https://en.wikipedia.org/w/index.php?title=List_of_postal_codes_of_Canada:_M&direction=prev&oldid=926287641\""
   ]
  },
  {
   "cell_type": "code",
   "execution_count": 33,
   "id": "2d5f7bb8",
   "metadata": {},
   "outputs": [],
   "source": [
    "data=requests.get(url).text\n",
    "soup=BeautifulSoup(data,\"html5lib\")\n",
    "tables=soup.find('table')"
   ]
  },
  {
   "cell_type": "markdown",
   "id": "ffa6259d",
   "metadata": {},
   "source": [
    "Create a dataframe to contain the required data. "
   ]
  },
  {
   "cell_type": "code",
   "execution_count": 42,
   "id": "c7b3ab2f",
   "metadata": {},
   "outputs": [
    {
     "data": {
      "text/html": [
       "<div>\n",
       "<style scoped>\n",
       "    .dataframe tbody tr th:only-of-type {\n",
       "        vertical-align: middle;\n",
       "    }\n",
       "\n",
       "    .dataframe tbody tr th {\n",
       "        vertical-align: top;\n",
       "    }\n",
       "\n",
       "    .dataframe thead th {\n",
       "        text-align: right;\n",
       "    }\n",
       "</style>\n",
       "<table border=\"1\" class=\"dataframe\">\n",
       "  <thead>\n",
       "    <tr style=\"text-align: right;\">\n",
       "      <th></th>\n",
       "      <th>PostalCode</th>\n",
       "      <th>Borough</th>\n",
       "      <th>Neighborhood</th>\n",
       "    </tr>\n",
       "  </thead>\n",
       "  <tbody>\n",
       "    <tr>\n",
       "      <th>0</th>\n",
       "      <td>M3A</td>\n",
       "      <td>North York</td>\n",
       "      <td>Parkwoods</td>\n",
       "    </tr>\n",
       "    <tr>\n",
       "      <th>1</th>\n",
       "      <td>M4A</td>\n",
       "      <td>North York</td>\n",
       "      <td>Victoria Village</td>\n",
       "    </tr>\n",
       "    <tr>\n",
       "      <th>2</th>\n",
       "      <td>M5A</td>\n",
       "      <td>Downtown Toronto</td>\n",
       "      <td>Harbourfront, Regent Park</td>\n",
       "    </tr>\n",
       "    <tr>\n",
       "      <th>3</th>\n",
       "      <td>M6A</td>\n",
       "      <td>North York</td>\n",
       "      <td>Lawrence Heights, Lawrence Manor</td>\n",
       "    </tr>\n",
       "    <tr>\n",
       "      <th>4</th>\n",
       "      <td>M7A</td>\n",
       "      <td>Queen's Park</td>\n",
       "      <td>Queen's Park</td>\n",
       "    </tr>\n",
       "    <tr>\n",
       "      <th>...</th>\n",
       "      <td>...</td>\n",
       "      <td>...</td>\n",
       "      <td>...</td>\n",
       "    </tr>\n",
       "    <tr>\n",
       "      <th>97</th>\n",
       "      <td>M5X</td>\n",
       "      <td>Downtown Toronto</td>\n",
       "      <td>First Canadian Place, Underground city</td>\n",
       "    </tr>\n",
       "    <tr>\n",
       "      <th>98</th>\n",
       "      <td>M8X</td>\n",
       "      <td>Etobicoke</td>\n",
       "      <td>The Kingsway, Montgomery Road, Old Mill North</td>\n",
       "    </tr>\n",
       "    <tr>\n",
       "      <th>99</th>\n",
       "      <td>M4Y</td>\n",
       "      <td>Downtown Toronto</td>\n",
       "      <td>Church and Wellesley</td>\n",
       "    </tr>\n",
       "    <tr>\n",
       "      <th>100</th>\n",
       "      <td>M7Y</td>\n",
       "      <td>East Toronto</td>\n",
       "      <td>Business Reply Mail Processing Centre 969 Eastern</td>\n",
       "    </tr>\n",
       "    <tr>\n",
       "      <th>101</th>\n",
       "      <td>M8Y</td>\n",
       "      <td>Etobicoke</td>\n",
       "      <td>Humber Bay, King's Mill Park, Kingsway Park South East, Mimico NE, Old Mill South, The Queensway East, Royal York South East, Sunnylea</td>\n",
       "    </tr>\n",
       "  </tbody>\n",
       "</table>\n",
       "<p>102 rows × 3 columns</p>\n",
       "</div>"
      ],
      "text/plain": [
       "    PostalCode           Borough  \\\n",
       "0          M3A        North York   \n",
       "1          M4A        North York   \n",
       "2          M5A  Downtown Toronto   \n",
       "3          M6A        North York   \n",
       "4          M7A      Queen's Park   \n",
       "..         ...               ...   \n",
       "97         M5X  Downtown Toronto   \n",
       "98         M8X         Etobicoke   \n",
       "99         M4Y  Downtown Toronto   \n",
       "100        M7Y      East Toronto   \n",
       "101        M8Y         Etobicoke   \n",
       "\n",
       "                                                                                                                               Neighborhood  \n",
       "0                                                                                                                                 Parkwoods  \n",
       "1                                                                                                                          Victoria Village  \n",
       "2                                                                                                                 Harbourfront, Regent Park  \n",
       "3                                                                                                          Lawrence Heights, Lawrence Manor  \n",
       "4                                                                                                                              Queen's Park  \n",
       "..                                                                                                                                      ...  \n",
       "97                                                                                                   First Canadian Place, Underground city  \n",
       "98                                                                                            The Kingsway, Montgomery Road, Old Mill North  \n",
       "99                                                                                                                     Church and Wellesley  \n",
       "100                                                                                       Business Reply Mail Processing Centre 969 Eastern  \n",
       "101  Humber Bay, King's Mill Park, Kingsway Park South East, Mimico NE, Old Mill South, The Queensway East, Royal York South East, Sunnylea  \n",
       "\n",
       "[102 rows x 3 columns]"
      ]
     },
     "execution_count": 42,
     "metadata": {},
     "output_type": "execute_result"
    }
   ],
   "source": [
    "neighborhood_data = pd.DataFrame(columns=[\"PostalCode\",\"Borough\",\"Neighborhood\"])\n",
    "\n",
    "lastpostalcode=\"\"\n",
    "lastborough=\"\"\n",
    "lastneighborhood=\"\"\n",
    "for row in soup.find(\"tbody\").find_all(\"tr\"):\n",
    "    \n",
    "    col = row.find_all(\"td\")\n",
    "    \n",
    "    postalcode=\"\"\n",
    "    borough=\"\"\n",
    "    neighborhood=\"\"\n",
    "    \n",
    "    #If col is not populated then no need to populate the values in the data frame - so loop back\n",
    "    if (col == []):\n",
    "        continue\n",
    "        \n",
    "    #Assign the current col values to appropriate variables\n",
    "    postalcode = col[0].text\n",
    "    borough = col[1].text.strip()\n",
    "    neighborhood = col[2].text.strip()\n",
    "\n",
    "    #If borough is not assigned then no need to populate the values in the data frame - so loop back\n",
    "    if borough == \"Not assigned\":\n",
    "        continue\n",
    "        \n",
    "    #If neighborhood is not assigned then populate neighborhood as the borough\n",
    "    if neighborhood == \"Not assigned\":\n",
    "        neighborhood=borough\n",
    "\n",
    "    #If postal code is same as the last row postal code then combine both neighborhood and continue\n",
    "    if postalcode == lastpostalcode:\n",
    "        lastneighborhood = lastneighborhood + \", \" + neighborhood\n",
    "        continue\n",
    "    \n",
    "    #No need to write when the first row is being read\n",
    "    if lastpostalcode==\"\":\n",
    "        pass\n",
    "    #If control reaches here then all values OK and new postal code started - so to be written to the dataframe   \n",
    "    else:\n",
    "        neighborhood_data = neighborhood_data.append({\"PostalCode\":lastpostalcode, \"Borough\":lastborough, \"Neighborhood\":lastneighborhood}, ignore_index=True)\n",
    "        \n",
    "    #Assign the new values to the last variables\n",
    "    lastpostalcode=postalcode\n",
    "    lastborough=borough\n",
    "    lastneighborhood=neighborhood\n",
    "pd.set_option('display.max_colwidth',None)    \n",
    "neighborhood_data"
   ]
  },
  {
   "cell_type": "code",
   "execution_count": 44,
   "id": "f537cb46",
   "metadata": {},
   "outputs": [
    {
     "data": {
      "text/plain": [
       "(102, 3)"
      ]
     },
     "execution_count": 44,
     "metadata": {},
     "output_type": "execute_result"
    }
   ],
   "source": [
    "neighborhood_data.shape"
   ]
  },
  {
   "cell_type": "code",
   "execution_count": null,
   "id": "c5bb2e32",
   "metadata": {},
   "outputs": [],
   "source": []
  }
 ],
 "metadata": {
  "kernelspec": {
   "display_name": "Python 3",
   "language": "python",
   "name": "python3"
  },
  "language_info": {
   "codemirror_mode": {
    "name": "ipython",
    "version": 3
   },
   "file_extension": ".py",
   "mimetype": "text/x-python",
   "name": "python",
   "nbconvert_exporter": "python",
   "pygments_lexer": "ipython3",
   "version": "3.8.8"
  }
 },
 "nbformat": 4,
 "nbformat_minor": 5
}
